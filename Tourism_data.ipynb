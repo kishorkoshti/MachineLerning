{
 "cells": [
  {
   "cell_type": "markdown",
   "id": "5934bc38",
   "metadata": {},
   "source": [
    "# Read the Tourism data for Data Cleaning from kaggle\n",
    "# https://www.kaggle.com/datasets/umeradnaan/tourism-dataset"
   ]
  },
  {
   "cell_type": "code",
   "execution_count": 1,
   "id": "e5602766",
   "metadata": {},
   "outputs": [],
   "source": [
    "import pandas as pd\n"
   ]
  },
  {
   "cell_type": "code",
   "execution_count": 8,
   "id": "6d161cca",
   "metadata": {},
   "outputs": [],
   "source": [
    "tourism_data = pd.read_csv(\"tourism_dataset.csv\")"
   ]
  },
  {
   "cell_type": "code",
   "execution_count": 9,
   "id": "4a88faa5",
   "metadata": {},
   "outputs": [
    {
     "name": "stdout",
     "output_type": "stream",
     "text": [
      "<class 'pandas.core.frame.DataFrame'>\n",
      "RangeIndex: 5989 entries, 0 to 5988\n",
      "Data columns (total 7 columns):\n",
      " #   Column                   Non-Null Count  Dtype  \n",
      "---  ------                   --------------  -----  \n",
      " 0   Location                 5989 non-null   object \n",
      " 1   Country                  5989 non-null   object \n",
      " 2   Category                 5989 non-null   object \n",
      " 3   Visitors                 5989 non-null   int64  \n",
      " 4   Rating                   5989 non-null   float64\n",
      " 5   Revenue                  5989 non-null   float64\n",
      " 6   Accommodation_Available  5989 non-null   object \n",
      "dtypes: float64(2), int64(1), object(4)\n",
      "memory usage: 327.7+ KB\n",
      "None\n"
     ]
    }
   ],
   "source": [
    "print(tourism_data.info())"
   ]
  },
  {
   "cell_type": "code",
   "execution_count": 11,
   "id": "55b72cc2",
   "metadata": {},
   "outputs": [
    {
     "name": "stdout",
     "output_type": "stream",
     "text": [
      "     Location    Country    Category  Visitors  Rating    Revenue  \\\n",
      "0  kuBZRkVsAR      India      Nature    948853    1.32   84388.38   \n",
      "1  aHKUXhjzTo        USA  Historical    813627    2.01  802625.60   \n",
      "2  dlrdYtJFTA     Brazil      Nature    508673    1.42  338777.11   \n",
      "3  DxmlzdGkHK     Brazil  Historical    623329    1.09  295183.60   \n",
      "4  WJCCQlepnz     France    Cultural    124867    1.43  547893.24   \n",
      "5  IKdhVWFKRc      Egypt    Cultural    389886    2.19  943411.34   \n",
      "6  TKEPcTbQFY      China       Beach    416933    3.92  744983.22   \n",
      "7  TjmJpYuNne      China  Historical    652046    2.50  796172.02   \n",
      "8  OcCopAsiyJ  Australia    Cultural     59309    4.10  588988.55   \n",
      "9  pXDJPYzTeU      India   Adventure    319068    1.98  239590.44   \n",
      "\n",
      "  Accommodation_Available  \n",
      "0                     Yes  \n",
      "1                      No  \n",
      "2                     Yes  \n",
      "3                     Yes  \n",
      "4                      No  \n",
      "5                     Yes  \n",
      "6                     Yes  \n",
      "7                     Yes  \n",
      "8                     Yes  \n",
      "9                      No  \n"
     ]
    }
   ],
   "source": [
    "print(tourism_data.head(10))"
   ]
  },
  {
   "cell_type": "code",
   "execution_count": null,
   "id": "74593c7e",
   "metadata": {},
   "outputs": [],
   "source": [
    "# remove duplicate rows\n"
   ]
  },
  {
   "cell_type": "code",
   "execution_count": 14,
   "id": "6f023b05",
   "metadata": {},
   "outputs": [],
   "source": [
    "duplicate = tourism_data.duplicated().sum()"
   ]
  },
  {
   "cell_type": "code",
   "execution_count": 15,
   "id": "c7b76728",
   "metadata": {},
   "outputs": [
    {
     "name": "stdout",
     "output_type": "stream",
     "text": [
      "0\n"
     ]
    }
   ],
   "source": [
    "print(duplicate)"
   ]
  },
  {
   "cell_type": "code",
   "execution_count": 16,
   "id": "6c61fb48",
   "metadata": {},
   "outputs": [],
   "source": [
    "# no duplicate data \n",
    "# to remove duplicate code snippet\n",
    "# tourism_data.drop_duplicates(inplace=True)"
   ]
  },
  {
   "cell_type": "code",
   "execution_count": 17,
   "id": "ca0935a0",
   "metadata": {},
   "outputs": [
    {
     "name": "stdout",
     "output_type": "stream",
     "text": [
      "Location                   0\n",
      "Country                    0\n",
      "Category                   0\n",
      "Visitors                   0\n",
      "Rating                     0\n",
      "Revenue                    0\n",
      "Accommodation_Available    0\n",
      "dtype: int64\n"
     ]
    }
   ],
   "source": [
    "# missing values\n",
    "missing_values = tourism_data.isna().sum()\n",
    "print(missing_values)"
   ]
  },
  {
   "cell_type": "code",
   "execution_count": 18,
   "id": "d11b3a76",
   "metadata": {},
   "outputs": [
    {
     "name": "stdout",
     "output_type": "stream",
     "text": [
      "            Visitors       Rating        Revenue\n",
      "count    5989.000000  5989.000000    5989.000000\n",
      "mean   501016.089497     3.009347  499479.367253\n",
      "std    289783.294978     1.155980  286743.225211\n",
      "min      1108.000000     1.000000    1025.810000\n",
      "25%    252789.000000     2.010000  251410.450000\n",
      "50%    500831.000000     3.000000  494169.350000\n",
      "75%    751371.000000     4.010000  742241.240000\n",
      "max    999982.000000     5.000000  999999.490000\n"
     ]
    }
   ],
   "source": [
    "print(tourism_data.describe())"
   ]
  },
  {
   "cell_type": "code",
   "execution_count": null,
   "id": "5bb908f4",
   "metadata": {},
   "outputs": [],
   "source": []
  }
 ],
 "metadata": {
  "kernelspec": {
   "display_name": "Python 3 (ipykernel)",
   "language": "python",
   "name": "python3"
  },
  "language_info": {
   "codemirror_mode": {
    "name": "ipython",
    "version": 3
   },
   "file_extension": ".py",
   "mimetype": "text/x-python",
   "name": "python",
   "nbconvert_exporter": "python",
   "pygments_lexer": "ipython3",
   "version": "3.11.5"
  }
 },
 "nbformat": 4,
 "nbformat_minor": 5
}
